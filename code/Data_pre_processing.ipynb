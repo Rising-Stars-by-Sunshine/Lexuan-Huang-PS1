{
  "nbformat": 4,
  "nbformat_minor": 0,
  "metadata": {
    "colab": {
      "provenance": []
    },
    "kernelspec": {
      "name": "python3",
      "display_name": "Python 3"
    },
    "language_info": {
      "name": "python"
    }
  },
  "cells": [
    {
      "cell_type": "code",
      "execution_count": 23,
      "metadata": {
        "colab": {
          "base_uri": "https://localhost:8080/",
          "height": 93
        },
        "id": "Wjg10hYRBwoO",
        "outputId": "bb6e07e6-07c0-497e-fa02-6f76d0f30f76"
      },
      "outputs": [
        {
          "output_type": "display_data",
          "data": {
            "text/plain": [
              "<IPython.core.display.HTML object>"
            ],
            "text/html": [
              "\n",
              "     <input type=\"file\" id=\"files-33ba1584-4bc5-4fcd-85b9-374c200d2ed7\" name=\"files[]\" multiple disabled\n",
              "        style=\"border:none\" />\n",
              "     <output id=\"result-33ba1584-4bc5-4fcd-85b9-374c200d2ed7\">\n",
              "      Upload widget is only available when the cell has been executed in the\n",
              "      current browser session. Please rerun this cell to enable.\n",
              "      </output>\n",
              "      <script>// Copyright 2017 Google LLC\n",
              "//\n",
              "// Licensed under the Apache License, Version 2.0 (the \"License\");\n",
              "// you may not use this file except in compliance with the License.\n",
              "// You may obtain a copy of the License at\n",
              "//\n",
              "//      http://www.apache.org/licenses/LICENSE-2.0\n",
              "//\n",
              "// Unless required by applicable law or agreed to in writing, software\n",
              "// distributed under the License is distributed on an \"AS IS\" BASIS,\n",
              "// WITHOUT WARRANTIES OR CONDITIONS OF ANY KIND, either express or implied.\n",
              "// See the License for the specific language governing permissions and\n",
              "// limitations under the License.\n",
              "\n",
              "/**\n",
              " * @fileoverview Helpers for google.colab Python module.\n",
              " */\n",
              "(function(scope) {\n",
              "function span(text, styleAttributes = {}) {\n",
              "  const element = document.createElement('span');\n",
              "  element.textContent = text;\n",
              "  for (const key of Object.keys(styleAttributes)) {\n",
              "    element.style[key] = styleAttributes[key];\n",
              "  }\n",
              "  return element;\n",
              "}\n",
              "\n",
              "// Max number of bytes which will be uploaded at a time.\n",
              "const MAX_PAYLOAD_SIZE = 100 * 1024;\n",
              "\n",
              "function _uploadFiles(inputId, outputId) {\n",
              "  const steps = uploadFilesStep(inputId, outputId);\n",
              "  const outputElement = document.getElementById(outputId);\n",
              "  // Cache steps on the outputElement to make it available for the next call\n",
              "  // to uploadFilesContinue from Python.\n",
              "  outputElement.steps = steps;\n",
              "\n",
              "  return _uploadFilesContinue(outputId);\n",
              "}\n",
              "\n",
              "// This is roughly an async generator (not supported in the browser yet),\n",
              "// where there are multiple asynchronous steps and the Python side is going\n",
              "// to poll for completion of each step.\n",
              "// This uses a Promise to block the python side on completion of each step,\n",
              "// then passes the result of the previous step as the input to the next step.\n",
              "function _uploadFilesContinue(outputId) {\n",
              "  const outputElement = document.getElementById(outputId);\n",
              "  const steps = outputElement.steps;\n",
              "\n",
              "  const next = steps.next(outputElement.lastPromiseValue);\n",
              "  return Promise.resolve(next.value.promise).then((value) => {\n",
              "    // Cache the last promise value to make it available to the next\n",
              "    // step of the generator.\n",
              "    outputElement.lastPromiseValue = value;\n",
              "    return next.value.response;\n",
              "  });\n",
              "}\n",
              "\n",
              "/**\n",
              " * Generator function which is called between each async step of the upload\n",
              " * process.\n",
              " * @param {string} inputId Element ID of the input file picker element.\n",
              " * @param {string} outputId Element ID of the output display.\n",
              " * @return {!Iterable<!Object>} Iterable of next steps.\n",
              " */\n",
              "function* uploadFilesStep(inputId, outputId) {\n",
              "  const inputElement = document.getElementById(inputId);\n",
              "  inputElement.disabled = false;\n",
              "\n",
              "  const outputElement = document.getElementById(outputId);\n",
              "  outputElement.innerHTML = '';\n",
              "\n",
              "  const pickedPromise = new Promise((resolve) => {\n",
              "    inputElement.addEventListener('change', (e) => {\n",
              "      resolve(e.target.files);\n",
              "    });\n",
              "  });\n",
              "\n",
              "  const cancel = document.createElement('button');\n",
              "  inputElement.parentElement.appendChild(cancel);\n",
              "  cancel.textContent = 'Cancel upload';\n",
              "  const cancelPromise = new Promise((resolve) => {\n",
              "    cancel.onclick = () => {\n",
              "      resolve(null);\n",
              "    };\n",
              "  });\n",
              "\n",
              "  // Wait for the user to pick the files.\n",
              "  const files = yield {\n",
              "    promise: Promise.race([pickedPromise, cancelPromise]),\n",
              "    response: {\n",
              "      action: 'starting',\n",
              "    }\n",
              "  };\n",
              "\n",
              "  cancel.remove();\n",
              "\n",
              "  // Disable the input element since further picks are not allowed.\n",
              "  inputElement.disabled = true;\n",
              "\n",
              "  if (!files) {\n",
              "    return {\n",
              "      response: {\n",
              "        action: 'complete',\n",
              "      }\n",
              "    };\n",
              "  }\n",
              "\n",
              "  for (const file of files) {\n",
              "    const li = document.createElement('li');\n",
              "    li.append(span(file.name, {fontWeight: 'bold'}));\n",
              "    li.append(span(\n",
              "        `(${file.type || 'n/a'}) - ${file.size} bytes, ` +\n",
              "        `last modified: ${\n",
              "            file.lastModifiedDate ? file.lastModifiedDate.toLocaleDateString() :\n",
              "                                    'n/a'} - `));\n",
              "    const percent = span('0% done');\n",
              "    li.appendChild(percent);\n",
              "\n",
              "    outputElement.appendChild(li);\n",
              "\n",
              "    const fileDataPromise = new Promise((resolve) => {\n",
              "      const reader = new FileReader();\n",
              "      reader.onload = (e) => {\n",
              "        resolve(e.target.result);\n",
              "      };\n",
              "      reader.readAsArrayBuffer(file);\n",
              "    });\n",
              "    // Wait for the data to be ready.\n",
              "    let fileData = yield {\n",
              "      promise: fileDataPromise,\n",
              "      response: {\n",
              "        action: 'continue',\n",
              "      }\n",
              "    };\n",
              "\n",
              "    // Use a chunked sending to avoid message size limits. See b/62115660.\n",
              "    let position = 0;\n",
              "    do {\n",
              "      const length = Math.min(fileData.byteLength - position, MAX_PAYLOAD_SIZE);\n",
              "      const chunk = new Uint8Array(fileData, position, length);\n",
              "      position += length;\n",
              "\n",
              "      const base64 = btoa(String.fromCharCode.apply(null, chunk));\n",
              "      yield {\n",
              "        response: {\n",
              "          action: 'append',\n",
              "          file: file.name,\n",
              "          data: base64,\n",
              "        },\n",
              "      };\n",
              "\n",
              "      let percentDone = fileData.byteLength === 0 ?\n",
              "          100 :\n",
              "          Math.round((position / fileData.byteLength) * 100);\n",
              "      percent.textContent = `${percentDone}% done`;\n",
              "\n",
              "    } while (position < fileData.byteLength);\n",
              "  }\n",
              "\n",
              "  // All done.\n",
              "  yield {\n",
              "    response: {\n",
              "      action: 'complete',\n",
              "    }\n",
              "  };\n",
              "}\n",
              "\n",
              "scope.google = scope.google || {};\n",
              "scope.google.colab = scope.google.colab || {};\n",
              "scope.google.colab._files = {\n",
              "  _uploadFiles,\n",
              "  _uploadFilesContinue,\n",
              "};\n",
              "})(self);\n",
              "</script> "
            ]
          },
          "metadata": {}
        },
        {
          "output_type": "stream",
          "name": "stdout",
          "text": [
            "Saving 2_PSCC_Policy_Pool_200.xlsx to 2_PSCC_Policy_Pool_200 (1).xlsx\n",
            "User uploaded file \"2_PSCC_Policy_Pool_200 (1).xlsx\" with length 22860 bytes\n"
          ]
        }
      ],
      "source": [
        "from google.colab import files\n",
        "uploaded = files.upload()\n",
        "for fn in uploaded.keys():\n",
        "  print('User uploaded file \"{name}\" with length {length} bytes'.format(\n",
        "      name=fn, length=len(uploaded[fn])))"
      ]
    },
    {
      "cell_type": "code",
      "source": [
        "import os\n",
        "for fn in uploaded.keys():\n",
        "    print(f\"文件 {fn} 存储在: {os.path.join(os.getcwd(), fn)}\")"
      ],
      "metadata": {
        "colab": {
          "base_uri": "https://localhost:8080/"
        },
        "id": "xfLjQ9BqE7lY",
        "outputId": "c84cf963-7d45-45a3-de05-3178a9921169"
      },
      "execution_count": 25,
      "outputs": [
        {
          "output_type": "stream",
          "name": "stdout",
          "text": [
            "文件 2_PSCC_Policy_Pool_200 (1).xlsx 存储在: /content/2_PSCC_Policy_Pool_200 (1).xlsx\n"
          ]
        }
      ]
    },
    {
      "cell_type": "code",
      "source": [
        "import pandas as pd\n",
        "from io import BytesIO\n",
        "\n",
        "# 从上传的文件中读取\n",
        "excel_file = pd.ExcelFile(BytesIO(uploaded['2_PSCC_Policy_Pool_200 (1).xlsx']))\n",
        "df = excel_file.parse('2216')  # 这里假设你要读取的工作表是'2216'"
      ],
      "metadata": {
        "id": "zlrS82j4CaAP"
      },
      "execution_count": 27,
      "outputs": []
    },
    {
      "cell_type": "code",
      "source": [
        "!pip install pytesseract\n",
        "!pip install pdf2image\n",
        "!pip install python-docx\n",
        "!pip install PyMuPDF\n"
      ],
      "metadata": {
        "colab": {
          "base_uri": "https://localhost:8080/"
        },
        "id": "ejqBhAN0ClY1",
        "outputId": "b7bf0206-5cd9-4e9c-8f3d-b385ca1721b3"
      },
      "execution_count": 12,
      "outputs": [
        {
          "output_type": "stream",
          "name": "stdout",
          "text": [
            "Requirement already satisfied: pytesseract in /usr/local/lib/python3.11/dist-packages (0.3.13)\n",
            "Requirement already satisfied: packaging>=21.3 in /usr/local/lib/python3.11/dist-packages (from pytesseract) (24.2)\n",
            "Requirement already satisfied: Pillow>=8.0.0 in /usr/local/lib/python3.11/dist-packages (from pytesseract) (11.1.0)\n",
            "Requirement already satisfied: pdf2image in /usr/local/lib/python3.11/dist-packages (1.17.0)\n",
            "Requirement already satisfied: pillow in /usr/local/lib/python3.11/dist-packages (from pdf2image) (11.1.0)\n",
            "Requirement already satisfied: python-docx in /usr/local/lib/python3.11/dist-packages (1.1.2)\n",
            "Requirement already satisfied: lxml>=3.1.0 in /usr/local/lib/python3.11/dist-packages (from python-docx) (5.3.0)\n",
            "Requirement already satisfied: typing-extensions>=4.9.0 in /usr/local/lib/python3.11/dist-packages (from python-docx) (4.12.2)\n",
            "Requirement already satisfied: PyMuPDF in /usr/local/lib/python3.11/dist-packages (1.25.3)\n"
          ]
        }
      ]
    },
    {
      "cell_type": "code",
      "source": [
        "import pandas as pd\n",
        "import requests\n",
        "import io\n",
        "import pytesseract\n",
        "from PIL import Image\n",
        "from pdf2image import convert_from_path\n",
        "from docx import Document\n",
        "import fitz\n",
        "import os\n",
        "\n",
        "# 配置 pytesseract 路径，根据你的安装路径修改\n",
        "pytesseract.pytesseract.tesseract_cmd = r'/usr/bin/tesseract'\n",
        "\n",
        "# 读取 Excel 文件\n",
        "excel_file = pd.ExcelFile('/content/2_PSCC_Policy_Pool_200 (1).xlsx')\n",
        "\n",
        "# 获取指定工作表中的数据\n",
        "df = excel_file.parse('2216')\n",
        "\n",
        "# 定义函数：从 URL 下载文件\n",
        "def download_file(url):\n",
        "    try:\n",
        "        response = requests.get(url, stream=True, timeout=10)\n",
        "        if response.status_code == 200:\n",
        "            return io.BytesIO(response.content)\n",
        "    except requests.RequestException as e:\n",
        "        print(f\"下载文件 {url} 时出现错误: {e}\")\n",
        "    return None\n",
        "\n",
        "# 定义函数：将 PDF 转换为 TXT\n",
        "def pdf_to_text(pdf_path):\n",
        "    text = \"\"\n",
        "    doc = fitz.open(stream=pdf_path.read(), filetype=\"pdf\")\n",
        "    for page_num in range(doc.page_count):\n",
        "        page = doc.load_page(page_num)\n",
        "        text += page.get_text()\n",
        "    return text\n",
        "\n",
        "# 定义函数：将 JPG 转换为 TXT\n",
        "def jpg_to_text(jpg_path):\n",
        "    image = Image.open(jpg_path)\n",
        "    return pytesseract.image_to_string(image)\n",
        "\n",
        "# 定义函数：将 DOC 转换为 TXT\n",
        "def doc_to_text(doc_path):\n",
        "    doc = Document(doc_path)\n",
        "    full_text = []\n",
        "    for para in doc.paragraphs:\n",
        "        full_text.append(para.text)\n",
        "    return '\\n'.join(full_text)\n",
        "\n",
        "# 定义函数：将 TXT 转换为 TXT（直接读取）\n",
        "def txt_to_text(txt_path):\n",
        "    return txt_path.read().decode('utf-8', errors='ignore')\n",
        "\n",
        "# 定义函数：根据文件扩展名选择合适的转换函数\n",
        "def convert_to_text(url):\n",
        "    file_extension = url.split('.')[-1].lower()\n",
        "    file_content = download_file(url)\n",
        "    if file_content is None:\n",
        "        return \"\"\n",
        "    if file_extension == 'pdf':\n",
        "        return pdf_to_text(file_content)\n",
        "    elif file_extension == 'jpg':\n",
        "        return jpg_to_text(file_content)\n",
        "    elif file_extension == 'doc':\n",
        "        return doc_to_text(file_content)\n",
        "    elif file_extension == 'txt':\n",
        "        return txt_to_text(file_content)\n",
        "    return \"\"\n",
        "\n",
        "# 创建保存转换后文件的目录\n",
        "if not os.path.exists('/mnt/converted_texts'):\n",
        "    os.makedirs('/mnt/converted_texts')\n",
        "\n",
        "# 遍历 URL 列，进行转换并保存为 TXT 文件\n",
        "for index, row in df.iterrows():\n",
        "    url = row['Url']\n",
        "    text = convert_to_text(url)\n",
        "    file_name = f\"{row['Uid']}.txt\"\n",
        "    file_path = os.path.join('/mnt/converted_texts', file_name)\n",
        "    with open(file_path, 'w', encoding='utf-8') as file:\n",
        "        file.write(text)"
      ],
      "metadata": {
        "colab": {
          "base_uri": "https://localhost:8080/"
        },
        "id": "iAjTUSqJENlF",
        "outputId": "6c9398fe-8a7e-4481-edb6-c6cd1010bb3a"
      },
      "execution_count": 28,
      "outputs": [
        {
          "output_type": "stream",
          "name": "stdout",
          "text": [
            "下载文件 https://www.moa.gov.cn/ztzl/xzgnylsn/gd/200909/t20090923_1356488.htm 时出现错误: HTTPSConnectionPool(host='www.moa.gov.cn', port=443): Max retries exceeded with url: /ztzl/xzgnylsn/gd/200909/t20090923_1356488.htm (Caused by SSLError(SSLCertVerificationError(1, '[SSL: CERTIFICATE_VERIFY_FAILED] certificate verify failed: unable to get local issuer certificate (_ssl.c:1006)')))\n"
          ]
        }
      ]
    },
    {
      "cell_type": "code",
      "source": [
        "import os\n",
        "\n",
        "folder_path = '/mnt/converted_texts'\n",
        "for root, dirs, files in os.walk(folder_path):\n",
        "    for file in files:\n",
        "        if file.endswith('.txt'):\n",
        "            file_path = os.path.join(root, file)\n",
        "            try:\n",
        "                with open(file_path, 'r', encoding='utf-8') as f:\n",
        "                    print(f\"文件 {file_path} 的内容:\")\n",
        "                    for line in f:\n",
        "                        print(line.strip())\n",
        "                    print(\"-\" * 50)  # 打印分隔线区分不同文件\n",
        "            except FileNotFoundError:\n",
        "                print(f\"文件 {file_path} 不存在\")\n",
        "            except UnicodeDecodeError:\n",
        "                print(f\"文件 {file_path} 解码出错\")"
      ],
      "metadata": {
        "id": "87VtOvkCHPLQ"
      },
      "execution_count": null,
      "outputs": []
    }
  ]
}
